{
  "nbformat": 4,
  "nbformat_minor": 0,
  "metadata": {
    "colab": {
      "name": "reliance_lstm.ipynb",
      "provenance": []
    },
    "kernelspec": {
      "name": "python3",
      "display_name": "Python 3"
    }
  },
  "cells": [
    {
      "cell_type": "code",
      "metadata": {
        "colab": {
          "base_uri": "https://localhost:8080/"
        },
        "id": "riWH6UgTdZQ2",
        "outputId": "55906347-cc6d-446a-d884-191d6e0116b9"
      },
      "source": [
        "pip install yfinance"
      ],
      "execution_count": null,
      "outputs": [
        {
          "output_type": "stream",
          "text": [
            "Collecting yfinance\n",
            "  Downloading https://files.pythonhosted.org/packages/7a/e8/b9d7104d3a4bf39924799067592d9e59119fcfc900a425a12e80a3123ec8/yfinance-0.1.55.tar.gz\n",
            "Requirement already satisfied: pandas>=0.24 in /usr/local/lib/python3.6/dist-packages (from yfinance) (1.1.4)\n",
            "Requirement already satisfied: numpy>=1.15 in /usr/local/lib/python3.6/dist-packages (from yfinance) (1.18.5)\n",
            "Requirement already satisfied: requests>=2.20 in /usr/local/lib/python3.6/dist-packages (from yfinance) (2.23.0)\n",
            "Requirement already satisfied: multitasking>=0.0.7 in /usr/local/lib/python3.6/dist-packages (from yfinance) (0.0.9)\n",
            "Collecting lxml>=4.5.1\n",
            "\u001b[?25l  Downloading https://files.pythonhosted.org/packages/64/28/0b761b64ecbd63d272ed0e7a6ae6e4402fc37886b59181bfdf274424d693/lxml-4.6.1-cp36-cp36m-manylinux1_x86_64.whl (5.5MB)\n",
            "\u001b[K     |████████████████████████████████| 5.5MB 6.4MB/s \n",
            "\u001b[?25hRequirement already satisfied: python-dateutil>=2.7.3 in /usr/local/lib/python3.6/dist-packages (from pandas>=0.24->yfinance) (2.8.1)\n",
            "Requirement already satisfied: pytz>=2017.2 in /usr/local/lib/python3.6/dist-packages (from pandas>=0.24->yfinance) (2018.9)\n",
            "Requirement already satisfied: certifi>=2017.4.17 in /usr/local/lib/python3.6/dist-packages (from requests>=2.20->yfinance) (2020.11.8)\n",
            "Requirement already satisfied: chardet<4,>=3.0.2 in /usr/local/lib/python3.6/dist-packages (from requests>=2.20->yfinance) (3.0.4)\n",
            "Requirement already satisfied: urllib3!=1.25.0,!=1.25.1,<1.26,>=1.21.1 in /usr/local/lib/python3.6/dist-packages (from requests>=2.20->yfinance) (1.24.3)\n",
            "Requirement already satisfied: idna<3,>=2.5 in /usr/local/lib/python3.6/dist-packages (from requests>=2.20->yfinance) (2.10)\n",
            "Requirement already satisfied: six>=1.5 in /usr/local/lib/python3.6/dist-packages (from python-dateutil>=2.7.3->pandas>=0.24->yfinance) (1.15.0)\n",
            "Building wheels for collected packages: yfinance\n",
            "  Building wheel for yfinance (setup.py) ... \u001b[?25l\u001b[?25hdone\n",
            "  Created wheel for yfinance: filename=yfinance-0.1.55-py2.py3-none-any.whl size=22618 sha256=0dcb0f8c05f0052932cfa547ab5a025b5aed42d1a9cad802139d195613820fe6\n",
            "  Stored in directory: /root/.cache/pip/wheels/04/98/cc/2702a4242d60bdc14f48b4557c427ded1fe92aedf257d4565c\n",
            "Successfully built yfinance\n",
            "Installing collected packages: lxml, yfinance\n",
            "  Found existing installation: lxml 4.2.6\n",
            "    Uninstalling lxml-4.2.6:\n",
            "      Successfully uninstalled lxml-4.2.6\n",
            "Successfully installed lxml-4.6.1 yfinance-0.1.55\n"
          ],
          "name": "stdout"
        }
      ]
    },
    {
      "cell_type": "code",
      "metadata": {
        "colab": {
          "base_uri": "https://localhost:8080/"
        },
        "id": "wua9MgCOdc54",
        "outputId": "6597cad5-a367-4391-8a92-508f2249ba3a"
      },
      "source": [
        "pip install yahoofinancials"
      ],
      "execution_count": null,
      "outputs": [
        {
          "output_type": "stream",
          "text": [
            "Collecting yahoofinancials\n",
            "  Downloading https://files.pythonhosted.org/packages/97/fe/be0f6ea704137848779fc61e7d1c9a901489aaf3423cd7b6f86a350c14c6/yahoofinancials-1.6.tar.gz\n",
            "Requirement already satisfied: beautifulsoup4 in /usr/local/lib/python3.6/dist-packages (from yahoofinancials) (4.6.3)\n",
            "Requirement already satisfied: pytz in /usr/local/lib/python3.6/dist-packages (from yahoofinancials) (2018.9)\n",
            "Building wheels for collected packages: yahoofinancials\n",
            "  Building wheel for yahoofinancials (setup.py) ... \u001b[?25l\u001b[?25hdone\n",
            "  Created wheel for yahoofinancials: filename=yahoofinancials-1.6-cp36-none-any.whl size=15192 sha256=40d7a04edf10890610440f1465070fa871ec9f9c2cd170e6047b607e6f722307\n",
            "  Stored in directory: /root/.cache/pip/wheels/d9/7e/cf/4977a8572d5247242a4b13018d1d36923024ba84236e0d28bc\n",
            "Successfully built yahoofinancials\n",
            "Installing collected packages: yahoofinancials\n",
            "Successfully installed yahoofinancials-1.6\n"
          ],
          "name": "stdout"
        }
      ]
    },
    {
      "cell_type": "code",
      "metadata": {
        "colab": {
          "base_uri": "https://localhost:8080/"
        },
        "id": "7Yuk8kvUatdJ",
        "outputId": "6e586df4-8fec-4fd3-936d-2d2eb8e6f6c1"
      },
      "source": [
        "#reading historic data using yfinance\n",
        "from datetime import date\n",
        "import yfinance as yf\n",
        "from yahoofinancials import YahooFinancials\n",
        "reliance_df = yf.download('RELIANCE.NS', \n",
        "                      start='2015-01-01', \n",
        "                      end= date.today() , \n",
        "                      progress=False)\n",
        "print(reliance_df.head())\n",
        "print(reliance_df.tail())"
      ],
      "execution_count": null,
      "outputs": [
        {
          "output_type": "stream",
          "text": [
            "                  Open        High         Low       Close   Adj Close   Volume\n",
            "Date                                                                           \n",
            "2015-01-01  443.149994  446.000000  441.825012  443.950012  415.367096  1354878\n",
            "2015-01-02  444.049988  448.024994  442.149994  442.774994  414.267700  3351654\n",
            "2015-01-05  442.500000  445.450012  437.049988  437.924988  409.729980  4619182\n",
            "2015-01-06  435.000000  436.500000  416.000000  418.049988  391.134613  8516086\n",
            "2015-01-07  418.549988  429.399994  418.500000  427.149994  399.648712  9472630\n",
            "                   Open         High  ...    Adj Close    Volume\n",
            "Date                                  ...                       \n",
            "2020-11-17  2085.000000  2085.000000  ...  1993.250000  21479385\n",
            "2020-11-18  1993.250000  2006.500000  ...  1987.199951  14030652\n",
            "2020-11-19  1987.199951  2010.449951  ...  1973.150024  12828008\n",
            "2020-11-20  1975.000000  1983.800049  ...  1899.500000  26522972\n",
            "2020-11-23  1951.000000  1970.000000  ...  1950.699951  20918665\n",
            "\n",
            "[5 rows x 6 columns]\n"
          ],
          "name": "stdout"
        }
      ]
    },
    {
      "cell_type": "code",
      "metadata": {
        "id": "iL_2xlgqdeBL"
      },
      "source": [
        "#import basic libraries and modules\n",
        "import pandas as pd\n",
        "import numpy as np\n",
        "import seaborn as sn\n",
        "import matplotlib.pyplot as plt"
      ],
      "execution_count": null,
      "outputs": []
    },
    {
      "cell_type": "code",
      "metadata": {
        "colab": {
          "base_uri": "https://localhost:8080/",
          "height": 265
        },
        "id": "_VzIBlZQeQSD",
        "outputId": "2439532e-a375-40ff-b2b5-9f46271a549b"
      },
      "source": [
        "reliance_df = reliance_df.set_index('Date')\n",
        "plt.plot(reliance_df['Close'])\n",
        "plt.show()"
      ],
      "execution_count": null,
      "outputs": [
        {
          "output_type": "display_data",
          "data": {
            "image/png": "[encoded data removed]",
            "text/plain": [
              "<Figure size 432x288 with 1 Axes>"
            ]
          },
          "metadata": {
            "tags": [],
            "needs_background": "light"
          }
        }
      ]
    },
    {
      "cell_type": "code",
      "metadata": {
        "colab": {
          "base_uri": "https://localhost:8080/",
          "height": 204
        },
        "id": "peJUg7-plQM2",
        "outputId": "69a94d4d-2356-4692-e769-c1a9e8d9606d"
      },
      "source": [
        "#i am gonna predict the stock closing value \n",
        "reliance_df = reliance_df.reset_index()\n",
        "df = reliance_df[[\"Date\",\"Close\"]]\n",
        "df.head()"
      ],
      "execution_count": null,
      "outputs": [
        {
          "output_type": "execute_result",
          "data": {
            "text/html": [
              "<div>\n",
              "<style scoped>\n",
              "    .dataframe tbody tr th:only-of-type {\n",
              "        vertical-align: middle;\n",
              "    }\n",
              "\n",
              "    .dataframe tbody tr th {\n",
              "        vertical-align: top;\n",
              "    }\n",
              "\n",
              "    .dataframe thead th {\n",
              "        text-align: right;\n",
              "    }\n",
              "</style>\n",
              "<table border=\"1\" class=\"dataframe\">\n",
              "  <thead>\n",
              "    <tr style=\"text-align: right;\">\n",
              "      <th></th>\n",
              "      <th>Date</th>\n",
              "      <th>Close</th>\n",
              "    </tr>\n",
              "  </thead>\n",
              "  <tbody>\n",
              "    <tr>\n",
              "      <th>0</th>\n",
              "      <td>2015-01-01</td>\n",
              "      <td>443.950012</td>\n",
              "    </tr>\n",
              "    <tr>\n",
              "      <th>1</th>\n",
              "      <td>2015-01-02</td>\n",
              "      <td>442.774994</td>\n",
              "    </tr>\n",
              "    <tr>\n",
              "      <th>2</th>\n",
              "      <td>2015-01-05</td>\n",
              "      <td>437.924988</td>\n",
              "    </tr>\n",
              "    <tr>\n",
              "      <th>3</th>\n",
              "      <td>2015-01-06</td>\n",
              "      <td>418.049988</td>\n",
              "    </tr>\n",
              "    <tr>\n",
              "      <th>4</th>\n",
              "      <td>2015-01-07</td>\n",
              "      <td>427.149994</td>\n",
              "    </tr>\n",
              "  </tbody>\n",
              "</table>\n",
              "</div>"
            ],
            "text/plain": [
              "        Date       Close\n",
              "0 2015-01-01  443.950012\n",
              "1 2015-01-02  442.774994\n",
              "2 2015-01-05  437.924988\n",
              "3 2015-01-06  418.049988\n",
              "4 2015-01-07  427.149994"
            ]
          },
          "metadata": {
            "tags": []
          },
          "execution_count": 6
        }
      ]
    },
    {
      "cell_type": "markdown",
      "metadata": {
        "id": "cfx9BXNlmRUQ"
      },
      "source": [
        "**LSTM STOCK PREDICTION MODEL**"
      ]
    },
    {
      "cell_type": "code",
      "metadata": {
        "id": "YiDHSqZRlVkt"
      },
      "source": [
        "#scaling the data \n",
        "from sklearn.preprocessing import MinMaxScaler\n",
        "data_scaling = MinMaxScaler(feature_range = (0,1))\n",
        "df['Close_Scaled'] = data_scaling.fit_transform(df['Close'].values.reshape(-1,1))"
      ],
      "execution_count": null,
      "outputs": []
    },
    {
      "cell_type": "code",
      "metadata": {
        "colab": {
          "base_uri": "https://localhost:8080/"
        },
        "id": "bK-6gMYEMlKr",
        "outputId": "58be37be-3d42-45e7-87f1-35400464dc5d"
      },
      "source": [
        "#train test split\n",
        "#keeping the ratio of 70:30\n",
        "data_train, data_test = df[0:int(len(df)*0.8)], df[int(len(df)*0.8):]\n",
        "data_train.shape, data_test.shape"
      ],
      "execution_count": null,
      "outputs": [
        {
          "output_type": "execute_result",
          "data": {
            "text/plain": [
              "((1161, 3), (291, 3))"
            ]
          },
          "metadata": {
            "tags": []
          },
          "execution_count": 12
        }
      ]
    },
    {
      "cell_type": "code",
      "metadata": {
        "id": "eYu6QhsuMnLN"
      },
      "source": [
        "#creating matrix \n",
        "# references: https://www.youtube.com/watch?v=H6du_pfuznE\n",
        "def create_dataset(dataset, look_back=1):\n",
        "\tdataX, dataY = [], []\n",
        "\tfor i in range(len(dataset)-look_back-1):\n",
        "\t\ta = dataset[i:(i+look_back), 0]\n",
        "\t\tdataX.append(a)\n",
        "\t\tdataY.append(dataset[i + look_back, 0])\n",
        "\treturn np.array(dataX), np.array(dataY)"
      ],
      "execution_count": null,
      "outputs": []
    },
    {
      "cell_type": "code",
      "metadata": {
        "id": "ct6llQJzNWAV"
      },
      "source": [
        "# creating dataset with the last 45 days historic data and sentiments score of todays news headlines\n",
        "data_train_scaled = data_train['Close_Scaled']\n",
        "data_test_scaled = data_test['Close_Scaled']\n",
        "train_x, train_y = create_dataset(np.array(data_train_scaled).reshape(-1,1), 60)\n",
        "test_x, test_y = create_dataset(np.array(data_test_scaled).reshape(-1,1), 60)"
      ],
      "execution_count": null,
      "outputs": []
    },
    {
      "cell_type": "code",
      "metadata": {
        "colab": {
          "base_uri": "https://localhost:8080/"
        },
        "id": "8WLjt2ejPmaJ",
        "outputId": "2fb2bfff-d082-4d9d-e283-566808ba3e8f"
      },
      "source": [
        "train_x.shape, train_y.shape, test_x.shape, test_y.shape"
      ],
      "execution_count": null,
      "outputs": [
        {
          "output_type": "execute_result",
          "data": {
            "text/plain": [
              "((1100, 60), (1100,), (230, 60), (230,))"
            ]
          },
          "metadata": {
            "tags": []
          },
          "execution_count": 22
        }
      ]
    },
    {
      "cell_type": "code",
      "metadata": {
        "id": "z6cNsGmRP4IS"
      },
      "source": [
        "#creating arrays\n",
        "#reshaping the input x dataset to 3 dimensions\n",
        "train_x, train_y = np.array(train_x), np.array(train_y)\n",
        "train_x = np.reshape(train_x, (train_x.shape[0], train_x.shape[1], 1))\n",
        "\n",
        "test_x, test_y = np.array(test_x), np.array(test_y)\n",
        "test_x = np.reshape(test_x, (test_x.shape[0], test_x.shape[1], 1))"
      ],
      "execution_count": null,
      "outputs": []
    },
    {
      "cell_type": "code",
      "metadata": {
        "colab": {
          "base_uri": "https://localhost:8080/"
        },
        "id": "4UiKbT3URu6X",
        "outputId": "3a7f36db-e391-4116-8f00-fa6c0467d1a2"
      },
      "source": [
        "# Create the Stacked LSTM model\n",
        "from tensorflow.keras.models import Sequential\n",
        "from tensorflow.keras.layers import Dense\n",
        "from tensorflow.keras.layers import LSTM\n",
        "model=Sequential()\n",
        "model.add(LSTM(50,return_sequences=True,input_shape=(train_x.shape[1], 1)))\n",
        "model.add(LSTM(50,return_sequences=True))\n",
        "model.add(LSTM(50))\n",
        "model.add(Dense(1))\n",
        "model.compile(loss='mean_squared_error',optimizer='adam')\n",
        "#reshaping data to three d\n",
        "model.fit(train_x, train_y, validation_data = (train_x, train_y), epochs=50, batch_size=75)"
      ],
      "execution_count": null,
      "outputs": [
        {
          "output_type": "stream",
          "text": [
            "Epoch 1/50\n",
            "15/15 [==============================] - 3s 194ms/step - loss: 0.0164 - val_loss: 0.0061\n",
            "Epoch 2/50\n",
            "15/15 [==============================] - 2s 132ms/step - loss: 0.0020 - val_loss: 0.0012\n",
            "Epoch 3/50\n",
            "15/15 [==============================] - 2s 127ms/step - loss: 7.7742e-04 - val_loss: 7.0767e-04\n",
            "Epoch 4/50\n",
            "15/15 [==============================] - 2s 127ms/step - loss: 5.4516e-04 - val_loss: 5.1044e-04\n",
            "Epoch 5/50\n",
            "15/15 [==============================] - 2s 128ms/step - loss: 4.5933e-04 - val_loss: 4.3951e-04\n",
            "Epoch 6/50\n",
            "15/15 [==============================] - 2s 129ms/step - loss: 4.4025e-04 - val_loss: 4.1202e-04\n",
            "Epoch 7/50\n",
            "15/15 [==============================] - 2s 128ms/step - loss: 4.0567e-04 - val_loss: 4.1476e-04\n",
            "Epoch 8/50\n",
            "15/15 [==============================] - 2s 125ms/step - loss: 4.0652e-04 - val_loss: 3.9955e-04\n",
            "Epoch 9/50\n",
            "15/15 [==============================] - 2s 130ms/step - loss: 3.9940e-04 - val_loss: 3.9989e-04\n",
            "Epoch 10/50\n",
            "15/15 [==============================] - 2s 125ms/step - loss: 3.9101e-04 - val_loss: 3.9232e-04\n",
            "Epoch 11/50\n",
            "15/15 [==============================] - 2s 126ms/step - loss: 4.0944e-04 - val_loss: 4.3518e-04\n",
            "Epoch 12/50\n",
            "15/15 [==============================] - 2s 127ms/step - loss: 3.9332e-04 - val_loss: 3.7363e-04\n",
            "Epoch 13/50\n",
            "15/15 [==============================] - 2s 130ms/step - loss: 3.7470e-04 - val_loss: 3.7522e-04\n",
            "Epoch 14/50\n",
            "15/15 [==============================] - 2s 131ms/step - loss: 3.9624e-04 - val_loss: 3.6889e-04\n",
            "Epoch 15/50\n",
            "15/15 [==============================] - 2s 127ms/step - loss: 3.9899e-04 - val_loss: 3.5863e-04\n",
            "Epoch 16/50\n",
            "15/15 [==============================] - 2s 126ms/step - loss: 3.6162e-04 - val_loss: 3.8281e-04\n",
            "Epoch 17/50\n",
            "15/15 [==============================] - 2s 128ms/step - loss: 3.7310e-04 - val_loss: 3.5004e-04\n",
            "Epoch 18/50\n",
            "15/15 [==============================] - 2s 130ms/step - loss: 3.7768e-04 - val_loss: 4.0647e-04\n",
            "Epoch 19/50\n",
            "15/15 [==============================] - 2s 129ms/step - loss: 3.9800e-04 - val_loss: 3.8998e-04\n",
            "Epoch 20/50\n",
            "15/15 [==============================] - 2s 136ms/step - loss: 3.5270e-04 - val_loss: 3.4180e-04\n",
            "Epoch 21/50\n",
            "15/15 [==============================] - 2s 128ms/step - loss: 3.4656e-04 - val_loss: 3.3350e-04\n",
            "Epoch 22/50\n",
            "15/15 [==============================] - 2s 129ms/step - loss: 3.7453e-04 - val_loss: 3.4328e-04\n",
            "Epoch 23/50\n",
            "15/15 [==============================] - 2s 128ms/step - loss: 3.4183e-04 - val_loss: 3.2489e-04\n",
            "Epoch 24/50\n",
            "15/15 [==============================] - 2s 134ms/step - loss: 3.3813e-04 - val_loss: 3.5384e-04\n",
            "Epoch 25/50\n",
            "15/15 [==============================] - 2s 132ms/step - loss: 3.3477e-04 - val_loss: 3.5193e-04\n",
            "Epoch 26/50\n",
            "15/15 [==============================] - 2s 134ms/step - loss: 3.3969e-04 - val_loss: 3.1448e-04\n",
            "Epoch 27/50\n",
            "15/15 [==============================] - 2s 128ms/step - loss: 3.1786e-04 - val_loss: 3.4775e-04\n",
            "Epoch 28/50\n",
            "15/15 [==============================] - 2s 131ms/step - loss: 3.4791e-04 - val_loss: 3.1231e-04\n",
            "Epoch 29/50\n",
            "15/15 [==============================] - 2s 128ms/step - loss: 3.2078e-04 - val_loss: 3.0222e-04\n",
            "Epoch 30/50\n",
            "15/15 [==============================] - 2s 134ms/step - loss: 3.1163e-04 - val_loss: 3.0880e-04\n",
            "Epoch 31/50\n",
            "15/15 [==============================] - 2s 130ms/step - loss: 3.0542e-04 - val_loss: 3.3236e-04\n",
            "Epoch 32/50\n",
            "15/15 [==============================] - 2s 129ms/step - loss: 3.1299e-04 - val_loss: 2.8993e-04\n",
            "Epoch 33/50\n",
            "15/15 [==============================] - 2s 133ms/step - loss: 2.9543e-04 - val_loss: 2.8681e-04\n",
            "Epoch 34/50\n",
            "15/15 [==============================] - 2s 131ms/step - loss: 2.9649e-04 - val_loss: 2.8764e-04\n",
            "Epoch 35/50\n",
            "15/15 [==============================] - 2s 127ms/step - loss: 3.5408e-04 - val_loss: 3.7743e-04\n",
            "Epoch 36/50\n",
            "15/15 [==============================] - 2s 129ms/step - loss: 2.9878e-04 - val_loss: 2.7594e-04\n",
            "Epoch 37/50\n",
            "15/15 [==============================] - 2s 130ms/step - loss: 2.8556e-04 - val_loss: 2.8448e-04\n",
            "Epoch 38/50\n",
            "15/15 [==============================] - 2s 131ms/step - loss: 2.7875e-04 - val_loss: 2.8260e-04\n",
            "Epoch 39/50\n",
            "15/15 [==============================] - 2s 130ms/step - loss: 2.8673e-04 - val_loss: 2.6281e-04\n",
            "Epoch 40/50\n",
            "15/15 [==============================] - 2s 129ms/step - loss: 2.9484e-04 - val_loss: 2.7536e-04\n",
            "Epoch 41/50\n",
            "15/15 [==============================] - 2s 128ms/step - loss: 2.7382e-04 - val_loss: 2.5934e-04\n",
            "Epoch 42/50\n",
            "15/15 [==============================] - 2s 128ms/step - loss: 2.6784e-04 - val_loss: 2.8247e-04\n",
            "Epoch 43/50\n",
            "15/15 [==============================] - 2s 128ms/step - loss: 2.7872e-04 - val_loss: 2.4952e-04\n",
            "Epoch 44/50\n",
            "15/15 [==============================] - 2s 128ms/step - loss: 2.6135e-04 - val_loss: 2.8689e-04\n",
            "Epoch 45/50\n",
            "15/15 [==============================] - 2s 129ms/step - loss: 2.5777e-04 - val_loss: 2.4027e-04\n",
            "Epoch 46/50\n",
            "15/15 [==============================] - 2s 137ms/step - loss: 2.4255e-04 - val_loss: 2.3718e-04\n",
            "Epoch 47/50\n",
            "15/15 [==============================] - 2s 131ms/step - loss: 2.4095e-04 - val_loss: 2.3558e-04\n",
            "Epoch 48/50\n",
            "15/15 [==============================] - 2s 131ms/step - loss: 2.6351e-04 - val_loss: 2.9284e-04\n",
            "Epoch 49/50\n",
            "15/15 [==============================] - 2s 135ms/step - loss: 2.5870e-04 - val_loss: 2.5736e-04\n",
            "Epoch 50/50\n",
            "15/15 [==============================] - 2s 130ms/step - loss: 2.3127e-04 - val_loss: 2.2430e-04\n"
          ],
          "name": "stdout"
        },
        {
          "output_type": "execute_result",
          "data": {
            "text/plain": [
              "<tensorflow.python.keras.callbacks.History at 0x7f0d5649d860>"
            ]
          },
          "metadata": {
            "tags": []
          },
          "execution_count": 24
        }
      ]
    },
    {
      "cell_type": "code",
      "metadata": {
        "colab": {
          "base_uri": "https://localhost:8080/"
        },
        "id": "UnHudkTTS9Vu",
        "outputId": "ef7d5e89-794f-4325-a2bf-c7dc2fe0aa39"
      },
      "source": [
        "train_predict = model.predict(train_x) \n",
        "test_predict = model.predict(test_x)\n",
        "train_predict"
      ],
      "execution_count": null,
      "outputs": [
        {
          "output_type": "execute_result",
          "data": {
            "text/plain": [
              "array([[0.0083767 ],\n",
              "       [0.00723407],\n",
              "       [0.00623136],\n",
              "       ...,\n",
              "       [0.41867787],\n",
              "       [0.41855812],\n",
              "       [0.41824192]], dtype=float32)"
            ]
          },
          "metadata": {
            "tags": []
          },
          "execution_count": 25
        }
      ]
    },
    {
      "cell_type": "code",
      "metadata": {
        "colab": {
          "base_uri": "https://localhost:8080/"
        },
        "id": "Yia0nBERTIJ2",
        "outputId": "c4249d6f-536c-4fb1-c2ac-e12b4f7c325c"
      },
      "source": [
        "#traonsform to orignal form\n",
        "train_predict1 = data_scaling.inverse_transform(train_predict) \n",
        "test_predict1 = data_scaling.inverse_transform(test_predict) \n",
        "print(train_predict1)"
      ],
      "execution_count": null,
      "outputs": [
        {
          "output_type": "stream",
          "text": [
            "[[ 421.45135]\n",
            " [ 419.25845]\n",
            " [ 417.33408]\n",
            " ...\n",
            " [1208.8911 ]\n",
            " [1208.6613 ]\n",
            " [1208.0544 ]]\n"
          ],
          "name": "stdout"
        }
      ]
    },
    {
      "cell_type": "code",
      "metadata": {
        "id": "YJkZXUYNTV57"
      },
      "source": [
        "train_y_re = data_scaling.inverse_transform(train_y.reshape(-1,1))\n",
        "test_y_re = data_scaling.inverse_transform(test_y.reshape(-1,1))"
      ],
      "execution_count": null,
      "outputs": []
    },
    {
      "cell_type": "code",
      "metadata": {
        "colab": {
          "base_uri": "https://localhost:8080/"
        },
        "id": "Sk0qvHYeTYg-",
        "outputId": "584dbde7-3467-4334-9fc8-699f2f858cca"
      },
      "source": [
        "# Calculate RMSE performance metrics\n",
        "import math\n",
        "from sklearn.metrics import mean_squared_error\n",
        "print(\"RMSE for train dataset:\", math.sqrt(mean_squared_error(train_y_re,train_predict1)))"
      ],
      "execution_count": null,
      "outputs": [
        {
          "output_type": "stream",
          "text": [
            "RMSE for train dataset: 28.74264252507878\n"
          ],
          "name": "stdout"
        }
      ]
    },
    {
      "cell_type": "code",
      "metadata": {
        "colab": {
          "base_uri": "https://localhost:8080/"
        },
        "id": "6tb3RgHQTaW8",
        "outputId": "1fcc306b-43fd-4d74-d036-957e183baa8c"
      },
      "source": [
        "print(\"RMSE for test dataset:\", math.sqrt(mean_squared_error(test_y_re,test_predict1)))"
      ],
      "execution_count": null,
      "outputs": [
        {
          "output_type": "stream",
          "text": [
            "RMSE for test dataset: 127.6207020945131\n"
          ],
          "name": "stdout"
        }
      ]
    },
    {
      "cell_type": "code",
      "metadata": {
        "colab": {
          "base_uri": "https://localhost:8080/"
        },
        "id": "Yv8rbhswUnVE",
        "outputId": "d1e950b8-6efa-48c0-b55b-b114442a7b5d"
      },
      "source": [
        "result_train = data_train.iloc[61:]\n",
        "result_test = data_test.iloc[61:]\n",
        "print(result_train.shape)\n",
        "print(result_test.shape)"
      ],
      "execution_count": null,
      "outputs": [
        {
          "output_type": "stream",
          "text": [
            "(1100, 3)\n",
            "(230, 3)\n"
          ],
          "name": "stdout"
        }
      ]
    },
    {
      "cell_type": "code",
      "metadata": {
        "colab": {
          "base_uri": "https://localhost:8080/"
        },
        "id": "3Ng1RtXLWEur",
        "outputId": "b479587b-8a87-4bcd-f917-3329e8e9cd83"
      },
      "source": [
        "len(test_predict1)"
      ],
      "execution_count": null,
      "outputs": [
        {
          "output_type": "execute_result",
          "data": {
            "text/plain": [
              "230"
            ]
          },
          "metadata": {
            "tags": []
          },
          "execution_count": 42
        }
      ]
    },
    {
      "cell_type": "code",
      "metadata": {
        "colab": {
          "base_uri": "https://localhost:8080/",
          "height": 408
        },
        "id": "ObFd_rrUTr01",
        "outputId": "460f7e59-af76-4cd2-d195-c3bf0cdedfd2"
      },
      "source": [
        "result_train['predict'] = train_predict1\n",
        "result_test['predict'] = test_predict1\n",
        "result_test.head()"
      ],
      "execution_count": null,
      "outputs": [
        {
          "output_type": "stream",
          "text": [
            "/usr/local/lib/python3.6/dist-packages/ipykernel_launcher.py:1: SettingWithCopyWarning: \n",
            "A value is trying to be set on a copy of a slice from a DataFrame.\n",
            "Try using .loc[row_indexer,col_indexer] = value instead\n",
            "\n",
            "See the caveats in the documentation: https://pandas.pydata.org/pandas-docs/stable/user_guide/indexing.html#returning-a-view-versus-a-copy\n",
            "  \"\"\"Entry point for launching an IPython kernel.\n",
            "/usr/local/lib/python3.6/dist-packages/ipykernel_launcher.py:2: SettingWithCopyWarning: \n",
            "A value is trying to be set on a copy of a slice from a DataFrame.\n",
            "Try using .loc[row_indexer,col_indexer] = value instead\n",
            "\n",
            "See the caveats in the documentation: https://pandas.pydata.org/pandas-docs/stable/user_guide/indexing.html#returning-a-view-versus-a-copy\n",
            "  \n"
          ],
          "name": "stderr"
        },
        {
          "output_type": "execute_result",
          "data": {
            "text/html": [
              "<div>\n",
              "<style scoped>\n",
              "    .dataframe tbody tr th:only-of-type {\n",
              "        vertical-align: middle;\n",
              "    }\n",
              "\n",
              "    .dataframe tbody tr th {\n",
              "        vertical-align: top;\n",
              "    }\n",
              "\n",
              "    .dataframe thead th {\n",
              "        text-align: right;\n",
              "    }\n",
              "</style>\n",
              "<table border=\"1\" class=\"dataframe\">\n",
              "  <thead>\n",
              "    <tr style=\"text-align: right;\">\n",
              "      <th></th>\n",
              "      <th>Date</th>\n",
              "      <th>Close</th>\n",
              "      <th>Close_Scaled</th>\n",
              "      <th>predict</th>\n",
              "    </tr>\n",
              "  </thead>\n",
              "  <tbody>\n",
              "    <tr>\n",
              "      <th>1222</th>\n",
              "      <td>2019-12-23</td>\n",
              "      <td>1571.400024</td>\n",
              "      <td>0.607566</td>\n",
              "      <td>1528.919189</td>\n",
              "    </tr>\n",
              "    <tr>\n",
              "      <th>1223</th>\n",
              "      <td>2019-12-24</td>\n",
              "      <td>1546.449951</td>\n",
              "      <td>0.594565</td>\n",
              "      <td>1534.088135</td>\n",
              "    </tr>\n",
              "    <tr>\n",
              "      <th>1224</th>\n",
              "      <td>2019-12-26</td>\n",
              "      <td>1515.400024</td>\n",
              "      <td>0.578387</td>\n",
              "      <td>1538.092529</td>\n",
              "    </tr>\n",
              "    <tr>\n",
              "      <th>1225</th>\n",
              "      <td>2019-12-27</td>\n",
              "      <td>1542.349976</td>\n",
              "      <td>0.592429</td>\n",
              "      <td>1538.785400</td>\n",
              "    </tr>\n",
              "    <tr>\n",
              "      <th>1226</th>\n",
              "      <td>2019-12-30</td>\n",
              "      <td>1544.199951</td>\n",
              "      <td>0.593393</td>\n",
              "      <td>1534.488525</td>\n",
              "    </tr>\n",
              "  </tbody>\n",
              "</table>\n",
              "</div>"
            ],
            "text/plain": [
              "           Date        Close  Close_Scaled      predict\n",
              "1222 2019-12-23  1571.400024      0.607566  1528.919189\n",
              "1223 2019-12-24  1546.449951      0.594565  1534.088135\n",
              "1224 2019-12-26  1515.400024      0.578387  1538.092529\n",
              "1225 2019-12-27  1542.349976      0.592429  1538.785400\n",
              "1226 2019-12-30  1544.199951      0.593393  1534.488525"
            ]
          },
          "metadata": {
            "tags": []
          },
          "execution_count": 47
        }
      ]
    },
    {
      "cell_type": "code",
      "metadata": {
        "colab": {
          "base_uri": "https://localhost:8080/"
        },
        "id": "WmU1tCf1UHfE",
        "outputId": "8c693b3e-6faf-49cc-d808-07518e24cd6c"
      },
      "source": [
        "result_test = result_test.set_index('Date', drop = False)\n",
        "result_train = result_train.set_index('Date', drop = False)"
      ],
      "execution_count": null,
      "outputs": [
        {
          "output_type": "stream",
          "text": [
            "<class 'pandas.core.frame.DataFrame'>\n",
            "RangeIndex: 1452 entries, 0 to 1451\n",
            "Data columns (total 3 columns):\n",
            " #   Column        Non-Null Count  Dtype         \n",
            "---  ------        --------------  -----         \n",
            " 0   Date          1452 non-null   datetime64[ns]\n",
            " 1   Close         1452 non-null   float64       \n",
            " 2   Close_Scaled  1452 non-null   float64       \n",
            "dtypes: datetime64[ns](1), float64(2)\n",
            "memory usage: 34.2 KB\n"
          ],
          "name": "stdout"
        }
      ]
    },
    {
      "cell_type": "code",
      "metadata": {
        "colab": {
          "base_uri": "https://localhost:8080/",
          "height": 444
        },
        "id": "sHu8OSpKXl_U",
        "outputId": "1da61181-78a6-48dd-f70d-52d4ef9ad847"
      },
      "source": [
        "#plotting training data\n",
        "plt.figure(figsize=(15, 7))\n",
        "plt.plot(result_train['Close'])\n",
        "plt.plot(result_train['predict'])\n",
        "plt.title(\"Traning Data\")\n",
        "plt.show()"
      ],
      "execution_count": null,
      "outputs": [
        {
          "output_type": "display_data",
          "data": {
            "image/png": "[encoded data removed]",
            "text/plain": [
              "<Figure size 1080x504 with 1 Axes>"
            ]
          },
          "metadata": {
            "tags": [],
            "needs_background": "light"
          }
        }
      ]
    },
    {
      "cell_type": "code",
      "metadata": {
        "colab": {
          "base_uri": "https://localhost:8080/",
          "height": 444
        },
        "id": "oAG038KsYCdx",
        "outputId": "4dc13c27-7c17-4081-c872-ff981de42ae3"
      },
      "source": [
        "#plotting training data\n",
        "plt.figure(figsize=(15, 7))\n",
        "plt.plot(result_test['Close'])\n",
        "plt.plot(result_test['predict'])\n",
        "plt.title(\"Test Data\")\n",
        "plt.show()"
      ],
      "execution_count": null,
      "outputs": [
        {
          "output_type": "display_data",
          "data": {
            "image/png": "[encoded data removed]",
            "text/plain": [
              "<Figure size 1080x504 with 1 Axes>"
            ]
          },
          "metadata": {
            "tags": [],
            "needs_background": "light"
          }
        }
      ]
    },
    {
      "cell_type": "code",
      "metadata": {
        "id": "Hnzl0P2FZYBX"
      },
      "source": [
        ""
      ],
      "execution_count": null,
      "outputs": []
    }
  ]
}